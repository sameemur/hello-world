{
 "cells": [
  {
   "cell_type": "code",
   "execution_count": 16,
   "metadata": {},
   "outputs": [
    {
     "data": {
      "text/plain": [
       "pandas.core.series.Series"
      ]
     },
     "execution_count": 16,
     "metadata": {},
     "output_type": "execute_result"
    }
   ],
   "source": [
    "import csv\n",
    "import pandas as pd\n",
    "import matplotlib.pyplot as plt\n",
    "from dateutil import parser\n",
    "%matplotlib inline\n",
    "\n",
    "df=pd.read_csv(\"data/healthy_person1.csv\",header=None,date_parser=True)\n",
    "df.columns=['time','value']\n",
    "#print(df)\n",
    "#splitting the time column in time and milliseconds\n",
    "df1=pd.DataFrame(df['time'].str.split('.').tolist(),columns = ['time','ms'])\n",
    "#print (df1)\n",
    "\n",
    "#splitting the time column in hour min and seconds\n",
    "df2=pd.DataFrame(df1['time'].str.split(':').tolist(),columns = ['hr','min','sec'])\n",
    "#print (df2)\n",
    "\n",
    "#join the datframes\n",
    "result=(df2.join(df1['ms'])).join(df['value'])\n",
    "#print(result)\n",
    "\n",
    "# Group by the milliseconds\n",
    "g1 = result.groupby(\"sec\")\n",
    "\n",
    "# Calculate the mean value\n",
    "t=g1[\"value\"].mean()\n",
    "type(t)\n"
   ]
  },
  {
   "cell_type": "code",
   "execution_count": null,
   "metadata": {},
   "outputs": [],
   "source": []
  },
  {
   "cell_type": "code",
   "execution_count": null,
   "metadata": {},
   "outputs": [],
   "source": []
  }
 ],
 "metadata": {
  "kernelspec": {
   "display_name": "Python 3",
   "language": "python",
   "name": "python3"
  },
  "language_info": {
   "codemirror_mode": {
    "name": "ipython",
    "version": 3
   },
   "file_extension": ".py",
   "mimetype": "text/x-python",
   "name": "python",
   "nbconvert_exporter": "python",
   "pygments_lexer": "ipython3",
   "version": "3.6.4"
  }
 },
 "nbformat": 4,
 "nbformat_minor": 2
}
