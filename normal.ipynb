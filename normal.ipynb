{
 "cells": [
  {
   "cell_type": "markdown",
   "metadata": {},
   "source": [
    "import package"
   ]
  },
  {
   "cell_type": "code",
   "execution_count": null,
   "metadata": {},
   "outputs": [],
   "source": [
    "import matplotlib.pyplot as plt\n",
    "##from sklearn import datasets\n",
    "from sklearn.cluster import KMeans\n",
    "import sklearn.metrics as sm\n",
    "import pandas as pd\n",
    "import numpy as np\n",
    "import csv"
   ]
  },
  {
   "cell_type": "markdown",
   "metadata": {},
   "source": [
    "load the dataset"
   ]
  },
  {
   "cell_type": "code",
   "execution_count": null,
   "metadata": {},
   "outputs": [],
   "source": [
    "dataset = pd.read_csv('data/healthy_person1.csv',delimiter=',')    #Read data from CSV datafile"
   ]
  },
  {
   "cell_type": "markdown",
   "metadata": {},
   "source": [
    "extract the voltage column"
   ]
  },
  {
   "cell_type": "code",
   "execution_count": null,
   "metadata": {},
   "outputs": [],
   "source": [
    "x=pd.DataFrame(dataset.iloc[:,1])\n",
    "##print(x.describe,\"size=\",x.shape)\n",
    "xdata=np.array(x)"
   ]
  },
  {
   "cell_type": "markdown",
   "metadata": {},
   "source": [
    "code to display the plot"
   ]
  },
  {
   "cell_type": "code",
   "execution_count": null,
   "metadata": {},
   "outputs": [],
   "source": [
    "y=[]\n",
    "for i in range(len(x)):\n",
    "    y.append(i)\n",
    "yd=np.array(y)\n",
    "ydata=yd.reshape(-1,1)\n",
    "mat=np.hstack((ydata,xdata))\n",
    "model=KMeans(n_clusters=3)\n",
    "model.fit(mat)\n",
    "##model.fit(xdata)\n",
    "centroids=model.cluster_centers_#store the centroids\n",
    "##print(centroids) #display the centroids\n",
    "xaxis=centroids[:,1]  #voltage from centroids \n",
    "yaxis=centroids[:,0]  #time from centroids\n",
    "plt.title('Healthy Person Dataset')\n",
    "colormap=np.array(['red','orange','blue','green','yellow'])\n",
    "plt.scatter(xaxis,yaxis,marker='x', s=50, linewidths=3,color='black', zorder=8)\n",
    "plt.scatter(xdata,ydata,c=colormap[model.labels_],s=20)\n",
    "plt.show()"
   ]
  }
 ],
 "metadata": {
  "kernelspec": {
   "display_name": "Python 3",
   "language": "python",
   "name": "python3"
  },
  "language_info": {
   "codemirror_mode": {
    "name": "ipython",
    "version": 3
   },
   "file_extension": ".py",
   "mimetype": "text/x-python",
   "name": "python",
   "nbconvert_exporter": "python",
   "pygments_lexer": "ipython3",
   "version": "3.5.5"
  }
 },
 "nbformat": 4,
 "nbformat_minor": 2
}
